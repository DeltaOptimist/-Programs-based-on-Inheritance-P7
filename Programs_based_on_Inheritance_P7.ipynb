{
  "nbformat": 4,
  "nbformat_minor": 0,
  "metadata": {
    "colab": {
      "provenance": []
    },
    "kernelspec": {
      "name": "python3",
      "display_name": "Python 3"
    },
    "language_info": {
      "name": "python"
    }
  },
  "cells": [
    {
      "cell_type": "markdown",
      "source": [
        " Programs based on Inheritance.\n",
        "\n",
        "Let’s take Vehicle as a parent class from which we will derive a class Category. \n",
        "\n",
        "Category class will inherit the features of parent class Vehicle and also invoke the function from the parent class."
      ],
      "metadata": {
        "id": "Br1Q5VWoIKiU"
      }
    },
    {
      "cell_type": "code",
      "execution_count": 1,
      "metadata": {
        "id": "fKFpCgijH7Me"
      },
      "outputs": [],
      "source": [
        "class Vehicle:   #parent class\n",
        "  \"Parent Class\"\n",
        "  def __init__(self, price):\n",
        "    self.price = price\n",
        "  def display(self):\n",
        "    print ('Price = $',self.price)\n",
        "\n",
        "\n",
        "class Category(Vehicle):   #derived class\n",
        "   \"Child/Derived class\"\n",
        "   def __init__(self, price, name):\n",
        "     Vehicle.__init__(self, price)\n",
        "     self.name = name\n",
        "\n",
        "   def disp_name(self):\n",
        "     print ('Vehicle = ',self.name)"
      ]
    },
    {
      "cell_type": "code",
      "source": [
        "obj = Category(1200, 'BMW')\n",
        "obj.disp_name()\n",
        "obj.display()"
      ],
      "metadata": {
        "colab": {
          "base_uri": "https://localhost:8080/"
        },
        "id": "w9Wn4U41IoxV",
        "outputId": "e3ef3774-cddb-421b-d758-b5d6568586a9"
      },
      "execution_count": 2,
      "outputs": [
        {
          "output_type": "stream",
          "name": "stdout",
          "text": [
            "Vehicle =  BMW\n",
            "Price = $ 1200\n"
          ]
        }
      ]
    },
    {
      "cell_type": "markdown",
      "source": [
        "Python isinstance( ) and issubclass( )\n",
        "\n",
        "Python issubclass() or isinstance() functions are used to check the relationship of two classes and instances.\n",
        "\n"
      ],
      "metadata": {
        "id": "kjEBP0cpJcZu"
      }
    },
    {
      "cell_type": "markdown",
      "source": [
        "issubclass( ) is used to check class inheritance. For example, insubclass(a, b) will return true only if a is the subclass of b.\n"
      ],
      "metadata": {
        "id": "HllR0WUfJ3EX"
      }
    },
    {
      "cell_type": "code",
      "source": [
        "issubclass(Category, Vehicle)"
      ],
      "metadata": {
        "colab": {
          "base_uri": "https://localhost:8080/"
        },
        "id": "OcyneFcTI1EX",
        "outputId": "6d5a666a-5bbd-4266-c773-3ff2d558c9df"
      },
      "execution_count": 3,
      "outputs": [
        {
          "output_type": "execute_result",
          "data": {
            "text/plain": [
              "True"
            ]
          },
          "metadata": {},
          "execution_count": 3
        }
      ]
    },
    {
      "cell_type": "code",
      "source": [
        "issubclass(Vehicle, Category) #Vehicle is not subclass of Category"
      ],
      "metadata": {
        "colab": {
          "base_uri": "https://localhost:8080/"
        },
        "id": "VOfsY5b2KLot",
        "outputId": "9d500eaf-2c98-41ad-9abc-a40a8f1fa7da"
      },
      "execution_count": 4,
      "outputs": [
        {
          "output_type": "execute_result",
          "data": {
            "text/plain": [
              "False"
            ]
          },
          "metadata": {},
          "execution_count": 4
        }
      ]
    },
    {
      "cell_type": "markdown",
      "source": [
        "isinstance( ) is used to check instance of a class. For example, isinstance(obj, A) will return true only if obj is the instance of class A or of any class derived from A."
      ],
      "metadata": {
        "id": "v2C2hkZ4K573"
      }
    },
    {
      "cell_type": "code",
      "source": [
        "isinstance(obj, Vehicle)"
      ],
      "metadata": {
        "colab": {
          "base_uri": "https://localhost:8080/"
        },
        "id": "-N9Wph5HKPrP",
        "outputId": "9ba326a3-385f-49d8-8569-33dc08e54396"
      },
      "execution_count": 7,
      "outputs": [
        {
          "output_type": "execute_result",
          "data": {
            "text/plain": [
              "True"
            ]
          },
          "metadata": {},
          "execution_count": 7
        }
      ]
    },
    {
      "cell_type": "code",
      "source": [
        "isinstance(obj, Category)"
      ],
      "metadata": {
        "colab": {
          "base_uri": "https://localhost:8080/"
        },
        "id": "zWuCnmGXKWqA",
        "outputId": "662a00a1-fe32-4d9c-a635-24445ccaf411"
      },
      "execution_count": 8,
      "outputs": [
        {
          "output_type": "execute_result",
          "data": {
            "text/plain": [
              "True"
            ]
          },
          "metadata": {},
          "execution_count": 8
        }
      ]
    },
    {
      "cell_type": "markdown",
      "source": [
        "Overriding methods in Python inheritance\n",
        "\n",
        "Sometimes we need to change the functional operation of a method defined in the base class. \n",
        "\n",
        "Instead of changing the method in base class, we can define that same function in the derived class and change the codes. \n",
        "\n",
        "The base class function is overridden by the derived class function.\n",
        "\n",
        "To override a method in the base class, we must define a new method with same name and same parameters in the derived class."
      ],
      "metadata": {
        "id": "QR8x2eE9QIEE"
      }
    },
    {
      "cell_type": "code",
      "source": [
        "class A:   #parent class\n",
        "  \"Parent Class\"\n",
        "  def display(self):\n",
        "    print ('This is base class.')\n",
        "\n",
        "\n",
        "\n",
        "class B(A):   #derived class\n",
        "   \"Child/Derived class\"\n",
        "   def display(self):\n",
        "     print ('This is derived class.')"
      ],
      "metadata": {
        "id": "M85UNk_BK4La"
      },
      "execution_count": 9,
      "outputs": []
    },
    {
      "cell_type": "code",
      "source": [
        "obj = B()\n",
        "obj.display()"
      ],
      "metadata": {
        "colab": {
          "base_uri": "https://localhost:8080/"
        },
        "id": "sqaKBI1sQtbI",
        "outputId": "aed46e74-0f87-42a2-b80e-05e879b38967"
      },
      "execution_count": 10,
      "outputs": [
        {
          "output_type": "stream",
          "name": "stdout",
          "text": [
            "This is derived class.\n"
          ]
        }
      ]
    },
    {
      "cell_type": "code",
      "source": [],
      "metadata": {
        "id": "2x6IZq3RREZO"
      },
      "execution_count": null,
      "outputs": []
    }
  ]
}